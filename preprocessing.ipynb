{
 "cells": [
  {
   "cell_type": "code",
   "outputs": [
    {
     "name": "stdout",
     "output_type": "stream",
     "text": [
      "<class 'pandas.core.frame.DataFrame'>\n",
      "RangeIndex: 178 entries, 0 to 177\n",
      "Data columns (total 14 columns):\n",
      " #   Column                        Non-Null Count  Dtype  \n",
      "---  ------                        --------------  -----  \n",
      " 0   alcohol                       178 non-null    float64\n",
      " 1   malic_acid                    178 non-null    float64\n",
      " 2   ash                           178 non-null    float64\n",
      " 3   alcalinity_of_ash             178 non-null    float64\n",
      " 4   magnesium                     178 non-null    float64\n",
      " 5   total_phenols                 178 non-null    float64\n",
      " 6   flavanoids                    178 non-null    float64\n",
      " 7   nonflavanoid_phenols          178 non-null    float64\n",
      " 8   proanthocyanins               178 non-null    float64\n",
      " 9   color_intensity               178 non-null    float64\n",
      " 10  hue                           178 non-null    float64\n",
      " 11  od280/od315_of_diluted_wines  178 non-null    float64\n",
      " 12  proline                       178 non-null    float64\n",
      " 13  target                        178 non-null    int32  \n",
      "dtypes: float64(13), int32(1)\n",
      "memory usage: 18.9 KB\n"
     ]
    }
   ],
   "source": [
    "import pandas as pd\n",
    "from sklearn import datasets\n",
    "\n",
    "data = datasets.load_wine()\n",
    "feature_names = data.feature_names\n",
    "\n",
    "df = pd.DataFrame(data.data, columns=feature_names)\n",
    "df['target'] = data.target\n",
    "\n",
    "df.info()"
   ],
   "metadata": {
    "collapsed": false,
    "ExecuteTime": {
     "end_time": "2024-03-18T22:39:08.838341Z",
     "start_time": "2024-03-18T22:39:08.827058Z"
    }
   },
   "id": "6845a0ca88a56d6a",
   "execution_count": 32
  },
  {
   "cell_type": "code",
   "outputs": [
    {
     "data": {
      "text/plain": "    alcohol  malic_acid       ash  alcalinity_of_ash  magnesium  \\\n0  0.837043    0.476573  0.529183           0.290788   0.820472   \n1  0.561549    0.496735  0.373324           0.036838   0.571668   \n2  0.550962    0.632310  0.664374           0.451197   0.583809   \n3  0.874907    0.541748  0.568050           0.356001   0.709469   \n4  0.572145    0.674733  0.781094           0.573825   0.752793   \n\n   total_phenols  flavanoids  nonflavanoid_phenols  proanthocyanins  \\\n0       0.671795    0.639577              0.418396         0.683511   \n1       0.623288    0.581268              0.374126         0.375185   \n2       0.671795    0.673832              0.460408         0.818548   \n3       0.991308    0.720584              0.327289         0.653299   \n4       0.671795    0.567426              0.627458         0.549477   \n\n   color_intensity       hue  od280/od315_of_diluted_wines   proline  target  \n0         0.619336  0.472591                      0.965457  0.763918       0  \n1         0.508758  0.480703                      0.747527  0.756391       0  \n2         0.622457  0.464469                      0.654963  0.820217       0  \n3         0.764282  0.324935                      0.767970  0.935463       0  \n4         0.502787  0.472591                      0.561034  0.563465       0  ",
      "text/html": "<div>\n<style scoped>\n    .dataframe tbody tr th:only-of-type {\n        vertical-align: middle;\n    }\n\n    .dataframe tbody tr th {\n        vertical-align: top;\n    }\n\n    .dataframe thead th {\n        text-align: right;\n    }\n</style>\n<table border=\"1\" class=\"dataframe\">\n  <thead>\n    <tr style=\"text-align: right;\">\n      <th></th>\n      <th>alcohol</th>\n      <th>malic_acid</th>\n      <th>ash</th>\n      <th>alcalinity_of_ash</th>\n      <th>magnesium</th>\n      <th>total_phenols</th>\n      <th>flavanoids</th>\n      <th>nonflavanoid_phenols</th>\n      <th>proanthocyanins</th>\n      <th>color_intensity</th>\n      <th>hue</th>\n      <th>od280/od315_of_diluted_wines</th>\n      <th>proline</th>\n      <th>target</th>\n    </tr>\n  </thead>\n  <tbody>\n    <tr>\n      <th>0</th>\n      <td>0.837043</td>\n      <td>0.476573</td>\n      <td>0.529183</td>\n      <td>0.290788</td>\n      <td>0.820472</td>\n      <td>0.671795</td>\n      <td>0.639577</td>\n      <td>0.418396</td>\n      <td>0.683511</td>\n      <td>0.619336</td>\n      <td>0.472591</td>\n      <td>0.965457</td>\n      <td>0.763918</td>\n      <td>0</td>\n    </tr>\n    <tr>\n      <th>1</th>\n      <td>0.561549</td>\n      <td>0.496735</td>\n      <td>0.373324</td>\n      <td>0.036838</td>\n      <td>0.571668</td>\n      <td>0.623288</td>\n      <td>0.581268</td>\n      <td>0.374126</td>\n      <td>0.375185</td>\n      <td>0.508758</td>\n      <td>0.480703</td>\n      <td>0.747527</td>\n      <td>0.756391</td>\n      <td>0</td>\n    </tr>\n    <tr>\n      <th>2</th>\n      <td>0.550962</td>\n      <td>0.632310</td>\n      <td>0.664374</td>\n      <td>0.451197</td>\n      <td>0.583809</td>\n      <td>0.671795</td>\n      <td>0.673832</td>\n      <td>0.460408</td>\n      <td>0.818548</td>\n      <td>0.622457</td>\n      <td>0.464469</td>\n      <td>0.654963</td>\n      <td>0.820217</td>\n      <td>0</td>\n    </tr>\n    <tr>\n      <th>3</th>\n      <td>0.874907</td>\n      <td>0.541748</td>\n      <td>0.568050</td>\n      <td>0.356001</td>\n      <td>0.709469</td>\n      <td>0.991308</td>\n      <td>0.720584</td>\n      <td>0.327289</td>\n      <td>0.653299</td>\n      <td>0.764282</td>\n      <td>0.324935</td>\n      <td>0.767970</td>\n      <td>0.935463</td>\n      <td>0</td>\n    </tr>\n    <tr>\n      <th>4</th>\n      <td>0.572145</td>\n      <td>0.674733</td>\n      <td>0.781094</td>\n      <td>0.573825</td>\n      <td>0.752793</td>\n      <td>0.671795</td>\n      <td>0.567426</td>\n      <td>0.627458</td>\n      <td>0.549477</td>\n      <td>0.502787</td>\n      <td>0.472591</td>\n      <td>0.561034</td>\n      <td>0.563465</td>\n      <td>0</td>\n    </tr>\n  </tbody>\n</table>\n</div>"
     },
     "execution_count": 33,
     "metadata": {},
     "output_type": "execute_result"
    }
   ],
   "source": [
    "from sklearn.preprocessing import MinMaxScaler\n",
    "from scipy import stats\n",
    "\n",
    "scaler = MinMaxScaler()\n",
    "\n",
    "for feature in feature_names:\n",
    "    df[feature], fitted_lambda = stats.boxcox(df[feature])\n",
    "    df[feature] = scaler.fit_transform(df[[feature]])\n",
    "df.head()"
   ],
   "metadata": {
    "collapsed": false,
    "ExecuteTime": {
     "end_time": "2024-03-18T22:39:08.924739Z",
     "start_time": "2024-03-18T22:39:08.843349Z"
    }
   },
   "id": "58831bf4d81d266d",
   "execution_count": 33
  },
  {
   "cell_type": "code",
   "outputs": [
    {
     "data": {
      "text/plain": "<Figure size 640x480 with 1 Axes>",
      "image/png": "[encoded data removed]"
     },
     "metadata": {},
     "output_type": "display_data"
    }
   ],
   "source": [
    "import matplotlib.pyplot as plt\n",
    "\n",
    "for feature in feature_names:\n",
    "    plt.hist(df[feature], bins=40)"
   ],
   "metadata": {
    "collapsed": false,
    "ExecuteTime": {
     "end_time": "2024-03-18T22:39:09.492406Z",
     "start_time": "2024-03-18T22:39:08.925744Z"
    }
   },
   "id": "7e19e7ab3a5f8bd1",
   "execution_count": 34
  },
  {
   "cell_type": "code",
   "outputs": [],
   "source": [
    "df.to_csv(\"wine_normalized.csv\", index=False)"
   ],
   "metadata": {
    "collapsed": false,
    "ExecuteTime": {
     "end_time": "2024-03-18T22:39:09.506377Z",
     "start_time": "2024-03-18T22:39:09.493411Z"
    }
   },
   "id": "7ee86b94df6f3d9f",
   "execution_count": 35
  }
 ],
 "metadata": {
  "kernelspec": {
   "display_name": "Python 3",
   "language": "python",
   "name": "python3"
  },
  "language_info": {
   "codemirror_mode": {
    "name": "ipython",
    "version": 2
   },
   "file_extension": ".py",
   "mimetype": "text/x-python",
   "name": "python",
   "nbconvert_exporter": "python",
   "pygments_lexer": "ipython2",
   "version": "2.7.6"
  }
 },
 "nbformat": 4,
 "nbformat_minor": 5
}
